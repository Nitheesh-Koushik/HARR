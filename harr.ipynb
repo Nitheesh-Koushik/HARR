{
  "nbformat": 4,
  "nbformat_minor": 0,
  "metadata": {
    "colab": {
      "name": "HW3BP3.ipynb",
      "provenance": []
    },
    "kernelspec": {
      "name": "python3",
      "display_name": "Python 3"
    },
    "language_info": {
      "name": "python"
    }
  },
  "cells": [
    {
      "cell_type": "code",
      "execution_count": null,
      "metadata": {
        "id": "jL5vyphZodEX"
      },
      "outputs": [],
      "source": [
        "import tensorflow as tf\n",
        "import pandas as pd\n",
        "import numpy as np"
      ]
    },
    {
      "cell_type": "code",
      "source": [
        "(x_train, y_train), (x_test, y_test) = tf.keras.datasets.mnist.load_data()"
      ],
      "metadata": {
        "id": "VrOhhEIwooB6"
      },
      "execution_count": null,
      "outputs": []
    },
    {
      "cell_type": "code",
      "source": [
        "x_train = x_train[:10000].astype(int) /255\n",
        "y_train = y_train[:10000]"
      ],
      "metadata": {
        "id": "zE_hi5vQowX_"
      },
      "execution_count": null,
      "outputs": []
    },
    {
      "cell_type": "code",
      "source": [
        "def dp_side(array):\n",
        "  initial = np.zeros(shape= array.shape)\n",
        "  for i in range(len(initial[0])):\n",
        "    if i == 0:\n",
        "      initial[0][0] = array[0][0]\n",
        "    else:\n",
        "      initial[0][i] = array[0][i] + initial[0][i-1]\n",
        "  \n",
        "  for i in range(1, len(initial[:, 0])):\n",
        "    initial[i][0] = array[i][0] + initial[i-1][0]\n",
        "\n",
        "  for row in range(1, len(initial[1:,1]) + 1):\n",
        "    for col in range(1, len(initial[1:, 1]) + 1):\n",
        "      initial[row][col] = initial[row][col-1] + initial[row-1][col] - initial[row-1][col-1] + array[row][col]\n",
        "  \n",
        "  return initial\n"
      ],
      "metadata": {
        "id": "XUH1lUmDo5iS"
      },
      "execution_count": null,
      "outputs": []
    },
    {
      "cell_type": "code",
      "source": [
        "new_arr = []\n",
        "for i in x_train:\n",
        "  k = dp_side(i)\n",
        "  new_arr.append(k)\n",
        "new_arr = np.array(new_arr)"
      ],
      "metadata": {
        "id": "Ujucp-yxtxoO"
      },
      "execution_count": null,
      "outputs": []
    },
    {
      "cell_type": "code",
      "source": [
        "rects = []\n",
        "while len(rects) != 100:\n",
        "  top, bottom = (np.random.randint(0,28), np.random.randint(0,28)), (np.random.randint(0,28), np.random.randint(0,28))\n",
        "  if abs(top[0] - bottom[0] >= 5) and abs(top[1] - bottom[1]) >= 5 and abs(top[0] - bottom[0]) * abs(top[1] - bottom[1]) >= 130:\n",
        "    rects.append([top, bottom])"
      ],
      "metadata": {
        "id": "WgRfQWoauSo8"
      },
      "execution_count": null,
      "outputs": []
    },
    {
      "cell_type": "code",
      "source": [
        "def hor_diff(array):\n",
        "  hor = []\n",
        "  for i in rects:\n",
        "    c1, c2 = i\n",
        "    mid = abs(c1[0]-c2[0]) // 2\n",
        "    if c1[0] < mid < c2[0]:\n",
        "      if c1[1] <= c2[1]:\n",
        "        k = (array[mid, c1[1]] - array[c1[0]-1, c1[1]] - array[mid, c2[1] -1] + array[c1[0]-1, c2[1]-1]) - (array[c2[0], c1[1]] - array[c2[0], c2[1] -1] - array[mid, c1[1]] + array[c2[0] -1, c2[1] -1])\n",
        "      else:\n",
        "        k = (array[mid, c2[1]] - array[c1[0]-1, c2[1]] - array[mid, c1[1] -1] + array[c1[0]-1, c1[1]-1]) - (array[c2[0], c2[1]] - array[c2[0], c1[1] -1] - array[mid, c2[1]] + array[c2[0] -1, c1[1] -1])\n",
        "    \n",
        "    if c1[0] > mid > c2[0]:\n",
        "      if c1[1] <= c2[1]:\n",
        "        k = (array[mid, c2[1]] - array[c2[0]-1, c2[1]] - array[mid, c1[1] -1] + array[c2[0]-1, c1[1]-1]) - (array[c1[0], c2[1]] - array[c1[0], c1[1] -1] - array[mid, c2[1]] + array[c1[0] -1, c1[1] -1])\n",
        "      else:\n",
        "        k = (array[mid, c1[1]] - array[c2[0]-1, c1[1]] - array[mid, c2[1] -1] + array[c2[0]-1, c2[1]-1]) - (array[c1[0], c1[1]] - array[c1[0], c2[1] -1] - array[mid, c1[1]] + array[c1[0] -1, c2[1] -1])\n",
        "    hor.append(k)\n",
        "  return hor"
      ],
      "metadata": {
        "id": "ap8vlS15uUS7"
      },
      "execution_count": null,
      "outputs": []
    },
    {
      "cell_type": "code",
      "source": [
        "def ver_diff(array):\n",
        "  ver = []\n",
        "  for i in rects:\n",
        "    c1, c2 = i\n",
        "    mid = abs(c1[1]-c2[1]) // 2\n",
        "    if c1[1] < mid < c2[1]:\n",
        "      if c1[0] <= c2[0]:\n",
        "        k = (array[c2[0], mid] - array[c1[0]-1, mid] - array[c2[0] , c1[1] - 1] + array[c1[0]-1, c1[1]-1]) - (array[c2[0], c2[1]] - array[c2[0], mid] - array[c1[0] -1 , c2[1]] + array[c1[0]-1, mid])\n",
        "      else:\n",
        "        k = (array[c1[0], mid] - array[c1[0]-1, c1[1]] - array[c2[0] -1 , mid] + array[c1[0]-1, c1[1]-1]) - (array[c1[0], c2[1]] - array[c1[0], mid] - array[c2[0] -1 , c2[1]] + array[c2[0]-1, mid])\n",
        "    \n",
        "    if c1[1] > mid > c2[1]:\n",
        "      if c1[1] <= c2[1]:\n",
        "        k = (array[c1[0], mid] - array[c2[0]-1, mid] - array[c1[0] , c2[1] - 1] + array[c2[0]-1, c2[1]-1]) - (array[c1[0], c1[1]] - array[c1[0], mid] - array[c2[0] -1 , c1[1]] + array[c2[0]-1, mid])\n",
        "      else:\n",
        "        k = (array[c2[0], mid] - array[c2[0]-1, c2[1]] - array[c1[0] -1 , mid] + array[c2[0]-1, c2[1]-1]) - (array[c2[0], c1[1]] - array[c2[0], mid] - array[c1[0] -1 , c1[1]] + array[c1[0]-1, mid])\n",
        "    ver.append(k)\n",
        "  return ver"
      ],
      "metadata": {
        "id": "f7rAAsQSvXdr"
      },
      "execution_count": null,
      "outputs": []
    },
    {
      "cell_type": "code",
      "source": [
        "diffs = []\n",
        "for i in x_train:\n",
        "  hor = hor_diff(i)\n",
        "  ver = ver_diff(i)\n",
        "  diffs.append(hor)\n",
        "  diffs[-1].extend(ver)"
      ],
      "metadata": {
        "id": "fLWYlStq6ss9"
      },
      "execution_count": null,
      "outputs": []
    },
    {
      "cell_type": "code",
      "source": [
        "diffs = np.array(diffs)"
      ],
      "metadata": {
        "id": "oTvAworc-D9L"
      },
      "execution_count": null,
      "outputs": []
    },
    {
      "cell_type": "code",
      "source": [
        "from sklearn.linear_model import LogisticRegression\n",
        "from sklearn.model_selection import train_test_split"
      ],
      "metadata": {
        "id": "dRgqhwK1-Qif"
      },
      "execution_count": null,
      "outputs": []
    },
    {
      "cell_type": "code",
      "source": [
        "x_tr, x_te, y_tr, y_te = train_test_split(diffs, y_train, test_size=0.2)"
      ],
      "metadata": {
        "id": "gTkmhZQ4-UqI"
      },
      "execution_count": null,
      "outputs": []
    },
    {
      "cell_type": "code",
      "source": [
        "len(y_tr)"
      ],
      "metadata": {
        "colab": {
          "base_uri": "https://localhost:8080/"
        },
        "id": "p1J1AFp8oNB4",
        "outputId": "ef89f787-e82d-49cb-d613-02b5cb2b1e92"
      },
      "execution_count": null,
      "outputs": [
        {
          "output_type": "execute_result",
          "data": {
            "text/plain": [
              "8000"
            ]
          },
          "metadata": {},
          "execution_count": 186
        }
      ]
    },
    {
      "cell_type": "code",
      "source": [
        "log = LogisticRegression(max_iter=100000)\n",
        "log.fit(x_tr, y_tr)"
      ],
      "metadata": {
        "colab": {
          "base_uri": "https://localhost:8080/"
        },
        "id": "_q91ysIo-lcC",
        "outputId": "9f41e207-9b49-480a-e839-9bb89c76547b"
      },
      "execution_count": null,
      "outputs": [
        {
          "output_type": "execute_result",
          "data": {
            "text/plain": [
              "LogisticRegression(max_iter=100000)"
            ]
          },
          "metadata": {},
          "execution_count": 187
        }
      ]
    },
    {
      "cell_type": "code",
      "source": [
        "y_pred = log.predict(x_te)"
      ],
      "metadata": {
        "id": "oU-EsGP-qio2"
      },
      "execution_count": null,
      "outputs": []
    },
    {
      "cell_type": "code",
      "source": [
        "from sklearn.metrics import accuracy_score\n",
        "accuracy_score(y_te, y_pred)"
      ],
      "metadata": {
        "colab": {
          "base_uri": "https://localhost:8080/"
        },
        "id": "iKGdrjIdQ0fr",
        "outputId": "ccb60b80-c938-424a-c7ed-381f53616fb5"
      },
      "execution_count": null,
      "outputs": [
        {
          "output_type": "execute_result",
          "data": {
            "text/plain": [
              "0.871"
            ]
          },
          "metadata": {},
          "execution_count": 189
        }
      ]
    },
    {
      "cell_type": "code",
      "source": [
        ""
      ],
      "metadata": {
        "id": "5JUcgIyQQ6Or"
      },
      "execution_count": null,
      "outputs": []
    }
  ]
}